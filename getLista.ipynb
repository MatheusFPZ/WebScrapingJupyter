{
 "cells": [
  {
   "cell_type": "code",
   "execution_count": 1,
   "id": "70aa64f6-cc99-48e2-91df-f462871d1f73",
   "metadata": {},
   "outputs": [
    {
     "name": "stderr",
     "output_type": "stream",
     "text": [
      "The version of firefox cannot be detected. Trying with latest driver version\n"
     ]
    },
    {
     "name": "stdout",
     "output_type": "stream",
     "text": [
      "Dados exportados para dados.csv\n"
     ]
    }
   ],
   "source": [
    "import csv\n",
    "from selenium import webdriver\n",
    "from selenium.webdriver.common.by import By\n",
    "from selenium.webdriver.support.ui import WebDriverWait\n",
    "from selenium.webdriver.support import expected_conditions as EC\n",
    "from bs4 import BeautifulSoup\n",
    "\n",
    "# Inicializa o navegador Chrome via Selenium\n",
    "driver = webdriver.Firefox()\n",
    "\n",
    "# URL da página que contém a tabela\n",
    "url = \"https://listadeibirubae15.com.br/\"\n",
    "\n",
    "# Abre a página no navegador\n",
    "driver.get(url)\n",
    "\n",
    "# Aguarda até que a tabela seja preenchida com os dados reais\n",
    "wait = WebDriverWait(driver, 50)\n",
    "wait.until(EC.presence_of_element_located((By.CSS_SELECTOR, \"table#datatable tbody tr\")))\n",
    "\n",
    "# Lista para armazenar os dados\n",
    "data_list = []\n",
    "\n",
    "# Função para extrair os dados da página atual e adicioná-los à lista\n",
    "def extract_data(soup):\n",
    "    table_rows = soup.select(\"table#datatable tbody tr\")\n",
    "    for row in table_rows:\n",
    "        cells = row.find_all(\"td\")\n",
    "        if len(cells) >= 3:\n",
    "            nome = cells[0].text.strip()\n",
    "            telefone = cells[1].text.strip()\n",
    "            cidade = cells[2].text.strip()\n",
    "            data_list.append([nome, telefone, cidade])\n",
    "\n",
    "# Loop para navegar por todas as páginas\n",
    "while True:\n",
    "    # Extrai o conteúdo HTML da página após o carregamento\n",
    "    page_source = driver.page_source\n",
    "    \n",
    "    # Cria um objeto BeautifulSoup com o conteúdo da página\n",
    "    soup = BeautifulSoup(page_source, \"html.parser\")\n",
    "    \n",
    "    # Extrai e adiciona os dados da página atual à lista\n",
    "    extract_data(soup)\n",
    "    \n",
    "    # Encontra e clica no botão \"Próxima\", se estiver disponível\n",
    "    try:\n",
    "        botao_proxima = driver.find_element(By.CSS_SELECTOR, \"a.page-link[data-dt-idx='8']\")\n",
    "        botao_proxima.click()\n",
    "        \n",
    "        # Aguarda até que a próxima página seja carregada\n",
    "        wait.until(EC.presence_of_element_located((By.CSS_SELECTOR, \"table#datatable tbody tr\")))\n",
    "    except:\n",
    "        # Se o botão \"Próxima\" não estiver mais disponível, sai do loop\n",
    "        break\n",
    "\n",
    "# Fecha o navegador\n",
    "driver.quit()\n",
    "\n",
    "# Cria um arquivo CSV e escreve os dados nele\n",
    "csv_file = \"dados.csv\"\n",
    "with open(csv_file, \"w\", newline=\"\", encoding=\"utf-8-sig\") as file:\n",
    "    csv_writer = csv.writer(file)\n",
    "    csv_writer.writerow([\"Nome\", \"Telefone\", \"Cidade\"])  # Cabeçalho das colunas\n",
    "    csv_writer.writerows(data_list)\n",
    "\n",
    "print(f\"Dados exportados para {csv_file}\")\n"
   ]
  },
  {
   "cell_type": "code",
   "execution_count": null,
   "id": "bc1a81c3-382c-4b74-b3ac-5c83aeec1faf",
   "metadata": {},
   "outputs": [],
   "source": []
  }
 ],
 "metadata": {
  "kernelspec": {
   "display_name": "Python 3 (ipykernel)",
   "language": "python",
   "name": "python3"
  },
  "language_info": {
   "codemirror_mode": {
    "name": "ipython",
    "version": 3
   },
   "file_extension": ".py",
   "mimetype": "text/x-python",
   "name": "python",
   "nbconvert_exporter": "python",
   "pygments_lexer": "ipython3",
   "version": "3.11.4"
  }
 },
 "nbformat": 4,
 "nbformat_minor": 5
}
